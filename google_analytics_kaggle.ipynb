{
  "nbformat": 4,
  "nbformat_minor": 0,
  "metadata": {
    "colab": {
      "provenance": [],
      "mount_file_id": "1IccPzp7EKYA8B9CTZXgIETlqql05f-qd",
      "authorship_tag": "ABX9TyMx5AY4tsAoQtESrlx5ATU+",
      "include_colab_link": true
    },
    "kernelspec": {
      "name": "python3",
      "display_name": "Python 3"
    },
    "language_info": {
      "name": "python"
    }
  },
  "cells": [
    {
      "cell_type": "markdown",
      "metadata": {
        "id": "view-in-github",
        "colab_type": "text"
      },
      "source": [
        "<a href=\"https://colab.research.google.com/github/jihosuperman/Bigquery-google-analytics-data/blob/main/google_analytics_kaggle.ipynb\" target=\"_parent\"><img src=\"https://colab.research.google.com/assets/colab-badge.svg\" alt=\"Open In Colab\"/></a>"
      ]
    },
    {
      "cell_type": "markdown",
      "source": [
        "# SQL | EDA of Bigquery Google Analytics Data\n",
        "\n",
        "source : https://www.kaggle.com/code/dillonmyrick/sql-eda-of-bigquery-google-analytics-data"
      ],
      "metadata": {
        "id": "q2kaps7lMfLI"
      }
    },
    {
      "cell_type": "markdown",
      "source": [
        "## Goal\n",
        "\n",
        "The goal of this project is to act as Web Analyst for the Google Merchandise Store, and analyze Google Analytics data from Bigquery using SQL. The period for this analysis will be 2016/08/01 ~ 2017/08/01.\n",
        "\n",
        "Site :  https://shop.googlemerchandisestore.com/\n",
        "\n",
        "For this analysis we'll focus on 3 main goals:\n",
        "\n",
        "- Understand the composition of current site traffic\n",
        "- Understand the flow and conversion path of users\n",
        "- Forcast product demand\n",
        "\n",
        "In addtion, we'll use following steps as a framework to organize our anaysis :\n",
        "\n",
        "1. Extract data and confirm structure/contents\n",
        "2. Make our goals more concrete\n",
        "3. Explore and analyze data\n",
        "4. Visualize insights and interpret results"
      ],
      "metadata": {
        "id": "ZIWSslJdMiL2"
      }
    },
    {
      "cell_type": "code",
      "source": [
        "# Import necessary libraries\n",
        "import pandas as pd\n",
        "import seaborn as sns\n",
        "import matplotlib.pyplot as plt\n",
        "sns.set()\n",
        "\n",
        "from plotly.offline import init_notebook_mode, iplot\n",
        "init_notebook_mode(connected=True)\n",
        "import plotly.graph_objs as go\n",
        "import plotly.express as px\n",
        "\n",
        "%matplotlib inline"
      ],
      "metadata": {
        "colab": {
          "base_uri": "https://localhost:8080/",
          "height": 17
        },
        "id": "HB3pQCoaMekn",
        "outputId": "ce595df6-4d97-4302-efe8-d1eee9400131"
      },
      "execution_count": 1,
      "outputs": [
        {
          "output_type": "display_data",
          "data": {
            "text/html": [
              "        <script type=\"text/javascript\">\n",
              "        window.PlotlyConfig = {MathJaxConfig: 'local'};\n",
              "        if (window.MathJax && window.MathJax.Hub && window.MathJax.Hub.Config) {window.MathJax.Hub.Config({SVG: {font: \"STIX-Web\"}});}\n",
              "        if (typeof require !== 'undefined') {\n",
              "        require.undef(\"plotly\");\n",
              "        requirejs.config({\n",
              "            paths: {\n",
              "                'plotly': ['https://cdn.plot.ly/plotly-2.18.2.min']\n",
              "            }\n",
              "        });\n",
              "        require(['plotly'], function(Plotly) {\n",
              "            window._Plotly = Plotly;\n",
              "        });\n",
              "        }\n",
              "        </script>\n",
              "        "
            ]
          },
          "metadata": {}
        }
      ]
    },
    {
      "cell_type": "markdown",
      "source": [
        "## 1. Extract Data and Confirm Structure/Contents\n",
        "First, let's connect to Bigquery and see what kind of data we'll be working with and how it's structured."
      ],
      "metadata": {
        "id": "lD2TlgVKMn3r"
      }
    },
    {
      "cell_type": "code",
      "source": [
        "!dir"
      ],
      "metadata": {
        "colab": {
          "base_uri": "https://localhost:8080/"
        },
        "id": "N-euS8jKQH2h",
        "outputId": "891cbb43-ce60-4a33-c658-f3a930abfd71"
      },
      "execution_count": 4,
      "outputs": [
        {
          "output_type": "stream",
          "name": "stdout",
          "text": [
            "drive  sample_data\n"
          ]
        }
      ]
    },
    {
      "cell_type": "code",
      "execution_count": 7,
      "metadata": {
        "id": "_u_6zfVNMXuw"
      },
      "outputs": [],
      "source": [
        "from google.cloud import bigquery\n",
        "from google.oauth2 import service_account\n",
        "import glob\n",
        "\n",
        "key_path = glob.glob(\"./drive/MyDrive/google-analytics/google-cloud-key/*.json\")[0]\n",
        "\n",
        "credentials = service_account.Credentials.from_service_account_file(key_path)\n",
        "\n",
        "# Create client object\n",
        "client = bigquery.Client(credentials=credentials, project=credentials.project_id)\n",
        "\n",
        "# Create dataset reference\n",
        "dataset_ref = client.dataset(\"google_analytics_sample\", project=\"bigquery-public-data\")\n",
        "\n",
        "# Retrieve dataset from reference\n",
        "dataset = client.get_dataset(dataset_ref)"
      ]
    },
    {
      "cell_type": "markdown",
      "source": [
        "Using Kaggle's public dataset BigQuery integration."
      ],
      "metadata": {
        "id": "EuI8NAGSQrKZ"
      }
    },
    {
      "cell_type": "code",
      "source": [
        "# View tables in dataset\n",
        "[x.table_id for x in client.list_tables(dataset)][:5]"
      ],
      "metadata": {
        "colab": {
          "base_uri": "https://localhost:8080/"
        },
        "id": "YBqdUQC4MpRK",
        "outputId": "4d626a24-b402-475a-8721-a72485f55024"
      },
      "execution_count": 9,
      "outputs": [
        {
          "output_type": "execute_result",
          "data": {
            "text/plain": [
              "['ga_sessions_20160801',\n",
              " 'ga_sessions_20160802',\n",
              " 'ga_sessions_20160803',\n",
              " 'ga_sessions_20160804',\n",
              " 'ga_sessions_20160805']"
            ]
          },
          "metadata": {},
          "execution_count": 9
        }
      ]
    }
  ]
}