{
  "nbformat": 4,
  "nbformat_minor": 0,
  "metadata": {
    "colab": {
      "provenance": [],
      "mount_file_id": "1IccPzp7EKYA8B9CTZXgIETlqql05f-qd",
      "authorship_tag": "ABX9TyMRqPY/YV+WzFERNJnORzoO",
      "include_colab_link": true
    },
    "kernelspec": {
      "name": "python3",
      "display_name": "Python 3"
    },
    "language_info": {
      "name": "python"
    }
  },
  "cells": [
    {
      "cell_type": "markdown",
      "metadata": {
        "id": "view-in-github",
        "colab_type": "text"
      },
      "source": [
        "<a href=\"https://colab.research.google.com/github/jihosuperman/Bigquery-google-analytics-data/blob/main/google_analytics_kaggle.ipynb\" target=\"_parent\"><img src=\"https://colab.research.google.com/assets/colab-badge.svg\" alt=\"Open In Colab\"/></a>"
      ]
    },
    {
      "cell_type": "markdown",
      "source": [
        "# SQL | EDA of Bigquery Google Analytics Data\n",
        "\n",
        "source : https://www.kaggle.com/code/dillonmyrick/sql-eda-of-bigquery-google-analytics-data"
      ],
      "metadata": {
        "id": "q2kaps7lMfLI"
      }
    },
    {
      "cell_type": "markdown",
      "source": [
        "## Goal\n",
        "\n",
        "The goal of this project is to act as Web Analyst for the Google Merchandise Store, and analyze Google Analytics data from Bigquery using SQL. The period for this analysis will be 2016/08/01 ~ 2017/08/01.\n",
        "\n",
        "Site :  https://shop.googlemerchandisestore.com/\n",
        "\n",
        "For this analysis we'll focus on 3 main goals:\n",
        "\n",
        "- Understand the composition of current site traffic\n",
        "- Understand the flow and conversion path of users\n",
        "- Forcast product demand\n",
        "\n",
        "In addtion, we'll use following steps as a framework to organize our anaysis :\n",
        "\n",
        "1. Extract data and confirm structure/contents\n",
        "2. Make our goals more concrete\n",
        "3. Explore and analyze data\n",
        "4. Visualize insights and interpret results"
      ],
      "metadata": {
        "id": "ZIWSslJdMiL2"
      }
    },
    {
      "cell_type": "code",
      "source": [
        "# Import necessary libraries\n",
        "import pandas as pd\n",
        "import seaborn as sns\n",
        "import matplotlib.pyplot as plt\n",
        "sns.set()\n",
        "\n",
        "from plotly.offline import init_notebook_mode, iplot\n",
        "init_notebook_mode(connected=True)\n",
        "import plotly.graph_objs as go\n",
        "import plotly.express as px\n",
        "\n",
        "%matplotlib inline"
      ],
      "metadata": {
        "colab": {
          "base_uri": "https://localhost:8080/",
          "height": 17
        },
        "id": "HB3pQCoaMekn",
        "outputId": "ce595df6-4d97-4302-efe8-d1eee9400131"
      },
      "execution_count": 1,
      "outputs": [
        {
          "output_type": "display_data",
          "data": {
            "text/html": [
              "        <script type=\"text/javascript\">\n",
              "        window.PlotlyConfig = {MathJaxConfig: 'local'};\n",
              "        if (window.MathJax && window.MathJax.Hub && window.MathJax.Hub.Config) {window.MathJax.Hub.Config({SVG: {font: \"STIX-Web\"}});}\n",
              "        if (typeof require !== 'undefined') {\n",
              "        require.undef(\"plotly\");\n",
              "        requirejs.config({\n",
              "            paths: {\n",
              "                'plotly': ['https://cdn.plot.ly/plotly-2.18.2.min']\n",
              "            }\n",
              "        });\n",
              "        require(['plotly'], function(Plotly) {\n",
              "            window._Plotly = Plotly;\n",
              "        });\n",
              "        }\n",
              "        </script>\n",
              "        "
            ]
          },
          "metadata": {}
        }
      ]
    },
    {
      "cell_type": "markdown",
      "source": [
        "## 1. Extract Data and Confirm Structure/Contents\n",
        "First, let's connect to Bigquery and see what kind of data we'll be working with and how it's structured."
      ],
      "metadata": {
        "id": "lD2TlgVKMn3r"
      }
    },
    {
      "cell_type": "code",
      "source": [
        "!dir"
      ],
      "metadata": {
        "colab": {
          "base_uri": "https://localhost:8080/"
        },
        "id": "N-euS8jKQH2h",
        "outputId": "891cbb43-ce60-4a33-c658-f3a930abfd71"
      },
      "execution_count": 4,
      "outputs": [
        {
          "output_type": "stream",
          "name": "stdout",
          "text": [
            "drive  sample_data\n"
          ]
        }
      ]
    },
    {
      "cell_type": "code",
      "execution_count": 7,
      "metadata": {
        "id": "_u_6zfVNMXuw"
      },
      "outputs": [],
      "source": [
        "from google.cloud import bigquery\n",
        "from google.oauth2 import service_account\n",
        "import glob\n",
        "\n",
        "key_path = glob.glob(\"./drive/MyDrive/google-analytics/google-cloud-key/*.json\")[0]\n",
        "\n",
        "credentials = service_account.Credentials.from_service_account_file(key_path)\n",
        "\n",
        "# Create client object\n",
        "client = bigquery.Client(credentials=credentials, project=credentials.project_id)\n",
        "\n",
        "# Create dataset reference\n",
        "dataset_ref = client.dataset(\"google_analytics_sample\", project=\"bigquery-public-data\")\n",
        "\n",
        "# Retrieve dataset from reference\n",
        "dataset = client.get_dataset(dataset_ref)"
      ]
    },
    {
      "cell_type": "markdown",
      "source": [
        "Using Kaggle's public dataset BigQuery integration."
      ],
      "metadata": {
        "id": "EuI8NAGSQrKZ"
      }
    },
    {
      "cell_type": "code",
      "source": [
        "# View tables in dataset\n",
        "[x.table_id for x in client.list_tables(dataset)][:5]"
      ],
      "metadata": {
        "colab": {
          "base_uri": "https://localhost:8080/"
        },
        "id": "YBqdUQC4MpRK",
        "outputId": "4d626a24-b402-475a-8721-a72485f55024"
      },
      "execution_count": 9,
      "outputs": [
        {
          "output_type": "execute_result",
          "data": {
            "text/plain": [
              "['ga_sessions_20160801',\n",
              " 'ga_sessions_20160802',\n",
              " 'ga_sessions_20160803',\n",
              " 'ga_sessions_20160804',\n",
              " 'ga_sessions_20160805']"
            ]
          },
          "metadata": {},
          "execution_count": 9
        }
      ]
    },
    {
      "cell_type": "code",
      "source": [
        "# Create table reference\n",
        "\n",
        "table_ref_20160801 = dataset_ref.table('ga_sessions_20160801')\n",
        "\n",
        "# Retrieve table from reference\n",
        "table_20160801 = client.get_table(table_ref_20160801)\n",
        "\n",
        "# View columns\n",
        "client.list_rows(table_20160801, max_results=5).to_dataframe()"
      ],
      "metadata": {
        "colab": {
          "base_uri": "https://localhost:8080/",
          "height": 531
        },
        "id": "AhNenXWoRX9S",
        "outputId": "f8e05d3e-6b3b-4c38-ddc5-8285f4709bf5"
      },
      "execution_count": 11,
      "outputs": [
        {
          "output_type": "execute_result",
          "data": {
            "text/plain": [
              "   visitorId  visitNumber     visitId  visitStartTime      date  \\\n",
              "0       <NA>            1  1470046245      1470046245  20160801   \n",
              "1       <NA>            1  1470084717      1470084717  20160801   \n",
              "2       <NA>            3  1470078988      1470078988  20160801   \n",
              "3       <NA>            4  1470075581      1470075581  20160801   \n",
              "4       <NA>           30  1470099026      1470099026  20160801   \n",
              "\n",
              "                                              totals  \\\n",
              "0  {'visits': 1, 'hits': 24, 'pageviews': 17, 'ti...   \n",
              "1  {'visits': 1, 'hits': 24, 'pageviews': 18, 'ti...   \n",
              "2  {'visits': 1, 'hits': 27, 'pageviews': 17, 'ti...   \n",
              "3  {'visits': 1, 'hits': 27, 'pageviews': 19, 'ti...   \n",
              "4  {'visits': 1, 'hits': 27, 'pageviews': 17, 'ti...   \n",
              "\n",
              "                                       trafficSource  \\\n",
              "0  {'referralPath': None, 'campaign': '(not set)'...   \n",
              "1  {'referralPath': None, 'campaign': '(not set)'...   \n",
              "2  {'referralPath': None, 'campaign': '(not set)'...   \n",
              "3  {'referralPath': '/', 'campaign': '(not set)',...   \n",
              "4  {'referralPath': None, 'campaign': '(not set)'...   \n",
              "\n",
              "                                              device  \\\n",
              "0  {'browser': 'Firefox', 'browserVersion': 'not ...   \n",
              "1  {'browser': 'Internet Explorer', 'browserVersi...   \n",
              "2  {'browser': 'Safari', 'browserVersion': 'not a...   \n",
              "3  {'browser': 'Chrome', 'browserVersion': 'not a...   \n",
              "4  {'browser': 'Chrome', 'browserVersion': 'not a...   \n",
              "\n",
              "                                          geoNetwork  \\\n",
              "0  {'continent': 'Europe', 'subContinent': 'Weste...   \n",
              "1  {'continent': 'Americas', 'subContinent': 'Nor...   \n",
              "2  {'continent': 'Americas', 'subContinent': 'Nor...   \n",
              "3  {'continent': 'Americas', 'subContinent': 'Nor...   \n",
              "4  {'continent': 'Americas', 'subContinent': 'Nor...   \n",
              "\n",
              "                           customDimensions  \\\n",
              "0           [{'index': 4, 'value': 'EMEA'}]   \n",
              "1  [{'index': 4, 'value': 'North America'}]   \n",
              "2  [{'index': 4, 'value': 'North America'}]   \n",
              "3  [{'index': 4, 'value': 'North America'}]   \n",
              "4  [{'index': 4, 'value': 'North America'}]   \n",
              "\n",
              "                                                hits        fullVisitorId  \\\n",
              "0  [{'hitNumber': 1, 'time': 0, 'hour': 3, 'minut...   895954260133011192   \n",
              "1  [{'hitNumber': 1, 'time': 0, 'hour': 13, 'minu...  0288478011259077136   \n",
              "2  [{'hitNumber': 1, 'time': 0, 'hour': 12, 'minu...  6440789996634275026   \n",
              "3  [{'hitNumber': 1, 'time': 0, 'hour': 11, 'minu...  8520115029387302083   \n",
              "4  [{'hitNumber': 1, 'time': 0, 'hour': 17, 'minu...  6792260745822342947   \n",
              "\n",
              "  userId channelGrouping  socialEngagementType  \n",
              "0   None  Organic Search  Not Socially Engaged  \n",
              "1   None          Direct  Not Socially Engaged  \n",
              "2   None  Organic Search  Not Socially Engaged  \n",
              "3   None        Referral  Not Socially Engaged  \n",
              "4   None  Organic Search  Not Socially Engaged  "
            ],
            "text/html": [
              "\n",
              "  <div id=\"df-aad09007-5f8f-487d-81e8-07cc16b87de2\">\n",
              "    <div class=\"colab-df-container\">\n",
              "      <div>\n",
              "<style scoped>\n",
              "    .dataframe tbody tr th:only-of-type {\n",
              "        vertical-align: middle;\n",
              "    }\n",
              "\n",
              "    .dataframe tbody tr th {\n",
              "        vertical-align: top;\n",
              "    }\n",
              "\n",
              "    .dataframe thead th {\n",
              "        text-align: right;\n",
              "    }\n",
              "</style>\n",
              "<table border=\"1\" class=\"dataframe\">\n",
              "  <thead>\n",
              "    <tr style=\"text-align: right;\">\n",
              "      <th></th>\n",
              "      <th>visitorId</th>\n",
              "      <th>visitNumber</th>\n",
              "      <th>visitId</th>\n",
              "      <th>visitStartTime</th>\n",
              "      <th>date</th>\n",
              "      <th>totals</th>\n",
              "      <th>trafficSource</th>\n",
              "      <th>device</th>\n",
              "      <th>geoNetwork</th>\n",
              "      <th>customDimensions</th>\n",
              "      <th>hits</th>\n",
              "      <th>fullVisitorId</th>\n",
              "      <th>userId</th>\n",
              "      <th>channelGrouping</th>\n",
              "      <th>socialEngagementType</th>\n",
              "    </tr>\n",
              "  </thead>\n",
              "  <tbody>\n",
              "    <tr>\n",
              "      <th>0</th>\n",
              "      <td>&lt;NA&gt;</td>\n",
              "      <td>1</td>\n",
              "      <td>1470046245</td>\n",
              "      <td>1470046245</td>\n",
              "      <td>20160801</td>\n",
              "      <td>{'visits': 1, 'hits': 24, 'pageviews': 17, 'ti...</td>\n",
              "      <td>{'referralPath': None, 'campaign': '(not set)'...</td>\n",
              "      <td>{'browser': 'Firefox', 'browserVersion': 'not ...</td>\n",
              "      <td>{'continent': 'Europe', 'subContinent': 'Weste...</td>\n",
              "      <td>[{'index': 4, 'value': 'EMEA'}]</td>\n",
              "      <td>[{'hitNumber': 1, 'time': 0, 'hour': 3, 'minut...</td>\n",
              "      <td>895954260133011192</td>\n",
              "      <td>None</td>\n",
              "      <td>Organic Search</td>\n",
              "      <td>Not Socially Engaged</td>\n",
              "    </tr>\n",
              "    <tr>\n",
              "      <th>1</th>\n",
              "      <td>&lt;NA&gt;</td>\n",
              "      <td>1</td>\n",
              "      <td>1470084717</td>\n",
              "      <td>1470084717</td>\n",
              "      <td>20160801</td>\n",
              "      <td>{'visits': 1, 'hits': 24, 'pageviews': 18, 'ti...</td>\n",
              "      <td>{'referralPath': None, 'campaign': '(not set)'...</td>\n",
              "      <td>{'browser': 'Internet Explorer', 'browserVersi...</td>\n",
              "      <td>{'continent': 'Americas', 'subContinent': 'Nor...</td>\n",
              "      <td>[{'index': 4, 'value': 'North America'}]</td>\n",
              "      <td>[{'hitNumber': 1, 'time': 0, 'hour': 13, 'minu...</td>\n",
              "      <td>0288478011259077136</td>\n",
              "      <td>None</td>\n",
              "      <td>Direct</td>\n",
              "      <td>Not Socially Engaged</td>\n",
              "    </tr>\n",
              "    <tr>\n",
              "      <th>2</th>\n",
              "      <td>&lt;NA&gt;</td>\n",
              "      <td>3</td>\n",
              "      <td>1470078988</td>\n",
              "      <td>1470078988</td>\n",
              "      <td>20160801</td>\n",
              "      <td>{'visits': 1, 'hits': 27, 'pageviews': 17, 'ti...</td>\n",
              "      <td>{'referralPath': None, 'campaign': '(not set)'...</td>\n",
              "      <td>{'browser': 'Safari', 'browserVersion': 'not a...</td>\n",
              "      <td>{'continent': 'Americas', 'subContinent': 'Nor...</td>\n",
              "      <td>[{'index': 4, 'value': 'North America'}]</td>\n",
              "      <td>[{'hitNumber': 1, 'time': 0, 'hour': 12, 'minu...</td>\n",
              "      <td>6440789996634275026</td>\n",
              "      <td>None</td>\n",
              "      <td>Organic Search</td>\n",
              "      <td>Not Socially Engaged</td>\n",
              "    </tr>\n",
              "    <tr>\n",
              "      <th>3</th>\n",
              "      <td>&lt;NA&gt;</td>\n",
              "      <td>4</td>\n",
              "      <td>1470075581</td>\n",
              "      <td>1470075581</td>\n",
              "      <td>20160801</td>\n",
              "      <td>{'visits': 1, 'hits': 27, 'pageviews': 19, 'ti...</td>\n",
              "      <td>{'referralPath': '/', 'campaign': '(not set)',...</td>\n",
              "      <td>{'browser': 'Chrome', 'browserVersion': 'not a...</td>\n",
              "      <td>{'continent': 'Americas', 'subContinent': 'Nor...</td>\n",
              "      <td>[{'index': 4, 'value': 'North America'}]</td>\n",
              "      <td>[{'hitNumber': 1, 'time': 0, 'hour': 11, 'minu...</td>\n",
              "      <td>8520115029387302083</td>\n",
              "      <td>None</td>\n",
              "      <td>Referral</td>\n",
              "      <td>Not Socially Engaged</td>\n",
              "    </tr>\n",
              "    <tr>\n",
              "      <th>4</th>\n",
              "      <td>&lt;NA&gt;</td>\n",
              "      <td>30</td>\n",
              "      <td>1470099026</td>\n",
              "      <td>1470099026</td>\n",
              "      <td>20160801</td>\n",
              "      <td>{'visits': 1, 'hits': 27, 'pageviews': 17, 'ti...</td>\n",
              "      <td>{'referralPath': None, 'campaign': '(not set)'...</td>\n",
              "      <td>{'browser': 'Chrome', 'browserVersion': 'not a...</td>\n",
              "      <td>{'continent': 'Americas', 'subContinent': 'Nor...</td>\n",
              "      <td>[{'index': 4, 'value': 'North America'}]</td>\n",
              "      <td>[{'hitNumber': 1, 'time': 0, 'hour': 17, 'minu...</td>\n",
              "      <td>6792260745822342947</td>\n",
              "      <td>None</td>\n",
              "      <td>Organic Search</td>\n",
              "      <td>Not Socially Engaged</td>\n",
              "    </tr>\n",
              "  </tbody>\n",
              "</table>\n",
              "</div>\n",
              "      <button class=\"colab-df-convert\" onclick=\"convertToInteractive('df-aad09007-5f8f-487d-81e8-07cc16b87de2')\"\n",
              "              title=\"Convert this dataframe to an interactive table.\"\n",
              "              style=\"display:none;\">\n",
              "        \n",
              "  <svg xmlns=\"http://www.w3.org/2000/svg\" height=\"24px\"viewBox=\"0 0 24 24\"\n",
              "       width=\"24px\">\n",
              "    <path d=\"M0 0h24v24H0V0z\" fill=\"none\"/>\n",
              "    <path d=\"M18.56 5.44l.94 2.06.94-2.06 2.06-.94-2.06-.94-.94-2.06-.94 2.06-2.06.94zm-11 1L8.5 8.5l.94-2.06 2.06-.94-2.06-.94L8.5 2.5l-.94 2.06-2.06.94zm10 10l.94 2.06.94-2.06 2.06-.94-2.06-.94-.94-2.06-.94 2.06-2.06.94z\"/><path d=\"M17.41 7.96l-1.37-1.37c-.4-.4-.92-.59-1.43-.59-.52 0-1.04.2-1.43.59L10.3 9.45l-7.72 7.72c-.78.78-.78 2.05 0 2.83L4 21.41c.39.39.9.59 1.41.59.51 0 1.02-.2 1.41-.59l7.78-7.78 2.81-2.81c.8-.78.8-2.07 0-2.86zM5.41 20L4 18.59l7.72-7.72 1.47 1.35L5.41 20z\"/>\n",
              "  </svg>\n",
              "      </button>\n",
              "      \n",
              "  <style>\n",
              "    .colab-df-container {\n",
              "      display:flex;\n",
              "      flex-wrap:wrap;\n",
              "      gap: 12px;\n",
              "    }\n",
              "\n",
              "    .colab-df-convert {\n",
              "      background-color: #E8F0FE;\n",
              "      border: none;\n",
              "      border-radius: 50%;\n",
              "      cursor: pointer;\n",
              "      display: none;\n",
              "      fill: #1967D2;\n",
              "      height: 32px;\n",
              "      padding: 0 0 0 0;\n",
              "      width: 32px;\n",
              "    }\n",
              "\n",
              "    .colab-df-convert:hover {\n",
              "      background-color: #E2EBFA;\n",
              "      box-shadow: 0px 1px 2px rgba(60, 64, 67, 0.3), 0px 1px 3px 1px rgba(60, 64, 67, 0.15);\n",
              "      fill: #174EA6;\n",
              "    }\n",
              "\n",
              "    [theme=dark] .colab-df-convert {\n",
              "      background-color: #3B4455;\n",
              "      fill: #D2E3FC;\n",
              "    }\n",
              "\n",
              "    [theme=dark] .colab-df-convert:hover {\n",
              "      background-color: #434B5C;\n",
              "      box-shadow: 0px 1px 3px 1px rgba(0, 0, 0, 0.15);\n",
              "      filter: drop-shadow(0px 1px 2px rgba(0, 0, 0, 0.3));\n",
              "      fill: #FFFFFF;\n",
              "    }\n",
              "  </style>\n",
              "\n",
              "      <script>\n",
              "        const buttonEl =\n",
              "          document.querySelector('#df-aad09007-5f8f-487d-81e8-07cc16b87de2 button.colab-df-convert');\n",
              "        buttonEl.style.display =\n",
              "          google.colab.kernel.accessAllowed ? 'block' : 'none';\n",
              "\n",
              "        async function convertToInteractive(key) {\n",
              "          const element = document.querySelector('#df-aad09007-5f8f-487d-81e8-07cc16b87de2');\n",
              "          const dataTable =\n",
              "            await google.colab.kernel.invokeFunction('convertToInteractive',\n",
              "                                                     [key], {});\n",
              "          if (!dataTable) return;\n",
              "\n",
              "          const docLinkHtml = 'Like what you see? Visit the ' +\n",
              "            '<a target=\"_blank\" href=https://colab.research.google.com/notebooks/data_table.ipynb>data table notebook</a>'\n",
              "            + ' to learn more about interactive tables.';\n",
              "          element.innerHTML = '';\n",
              "          dataTable['output_type'] = 'display_data';\n",
              "          await google.colab.output.renderOutput(dataTable, element);\n",
              "          const docLink = document.createElement('div');\n",
              "          docLink.innerHTML = docLinkHtml;\n",
              "          element.appendChild(docLink);\n",
              "        }\n",
              "      </script>\n",
              "    </div>\n",
              "  </div>\n",
              "  "
            ]
          },
          "metadata": {},
          "execution_count": 11
        }
      ]
    },
    {
      "cell_type": "code",
      "source": [],
      "metadata": {
        "id": "SWvw6AohRwoz"
      },
      "execution_count": null,
      "outputs": []
    }
  ]
}